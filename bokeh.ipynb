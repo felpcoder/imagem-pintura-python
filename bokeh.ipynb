{
 "cells": [
  {
   "cell_type": "code",
   "execution_count": 1,
   "id": "1052f5f3",
   "metadata": {
    "ExecuteTime": {
     "end_time": "2022-04-26T02:24:54.080098Z",
     "start_time": "2022-04-26T02:24:53.078776Z"
    }
   },
   "outputs": [
    {
     "data": {
      "text/html": [
       "\n",
       "    <div class=\"bk-root\">\n",
       "        <a href=\"https://bokeh.org\" target=\"_blank\" class=\"bk-logo bk-logo-small bk-logo-notebook\"></a>\n",
       "        <span id=\"1002\">Loading BokehJS ...</span>\n",
       "    </div>"
      ]
     },
     "metadata": {},
     "output_type": "display_data"
    },
    {
     "data": {
      "application/javascript": [
       "\n",
       "(function(root) {\n",
       "  function now() {\n",
       "    return new Date();\n",
       "  }\n",
       "\n",
       "  var force = true;\n",
       "\n",
       "  if (typeof root._bokeh_onload_callbacks === \"undefined\" || force === true) {\n",
       "    root._bokeh_onload_callbacks = [];\n",
       "    root._bokeh_is_loading = undefined;\n",
       "  }\n",
       "\n",
       "  var JS_MIME_TYPE = 'application/javascript';\n",
       "  var HTML_MIME_TYPE = 'text/html';\n",
       "  var EXEC_MIME_TYPE = 'application/vnd.bokehjs_exec.v0+json';\n",
       "  var CLASS_NAME = 'output_bokeh rendered_html';\n",
       "\n",
       "  /**\n",
       "   * Render data to the DOM node\n",
       "   */\n",
       "  function render(props, node) {\n",
       "    var script = document.createElement(\"script\");\n",
       "    node.appendChild(script);\n",
       "  }\n",
       "\n",
       "  /**\n",
       "   * Handle when an output is cleared or removed\n",
       "   */\n",
       "  function handleClearOutput(event, handle) {\n",
       "    var cell = handle.cell;\n",
       "\n",
       "    var id = cell.output_area._bokeh_element_id;\n",
       "    var server_id = cell.output_area._bokeh_server_id;\n",
       "    // Clean up Bokeh references\n",
       "    if (id != null && id in Bokeh.index) {\n",
       "      Bokeh.index[id].model.document.clear();\n",
       "      delete Bokeh.index[id];\n",
       "    }\n",
       "\n",
       "    if (server_id !== undefined) {\n",
       "      // Clean up Bokeh references\n",
       "      var cmd = \"from bokeh.io.state import curstate; print(curstate().uuid_to_server['\" + server_id + \"'].get_sessions()[0].document.roots[0]._id)\";\n",
       "      cell.notebook.kernel.execute(cmd, {\n",
       "        iopub: {\n",
       "          output: function(msg) {\n",
       "            var id = msg.content.text.trim();\n",
       "            if (id in Bokeh.index) {\n",
       "              Bokeh.index[id].model.document.clear();\n",
       "              delete Bokeh.index[id];\n",
       "            }\n",
       "          }\n",
       "        }\n",
       "      });\n",
       "      // Destroy server and session\n",
       "      var cmd = \"import bokeh.io.notebook as ion; ion.destroy_server('\" + server_id + \"')\";\n",
       "      cell.notebook.kernel.execute(cmd);\n",
       "    }\n",
       "  }\n",
       "\n",
       "  /**\n",
       "   * Handle when a new output is added\n",
       "   */\n",
       "  function handleAddOutput(event, handle) {\n",
       "    var output_area = handle.output_area;\n",
       "    var output = handle.output;\n",
       "\n",
       "    // limit handleAddOutput to display_data with EXEC_MIME_TYPE content only\n",
       "    if ((output.output_type != \"display_data\") || (!Object.prototype.hasOwnProperty.call(output.data, EXEC_MIME_TYPE))) {\n",
       "      return\n",
       "    }\n",
       "\n",
       "    var toinsert = output_area.element.find(\".\" + CLASS_NAME.split(' ')[0]);\n",
       "\n",
       "    if (output.metadata[EXEC_MIME_TYPE][\"id\"] !== undefined) {\n",
       "      toinsert[toinsert.length - 1].firstChild.textContent = output.data[JS_MIME_TYPE];\n",
       "      // store reference to embed id on output_area\n",
       "      output_area._bokeh_element_id = output.metadata[EXEC_MIME_TYPE][\"id\"];\n",
       "    }\n",
       "    if (output.metadata[EXEC_MIME_TYPE][\"server_id\"] !== undefined) {\n",
       "      var bk_div = document.createElement(\"div\");\n",
       "      bk_div.innerHTML = output.data[HTML_MIME_TYPE];\n",
       "      var script_attrs = bk_div.children[0].attributes;\n",
       "      for (var i = 0; i < script_attrs.length; i++) {\n",
       "        toinsert[toinsert.length - 1].firstChild.setAttribute(script_attrs[i].name, script_attrs[i].value);\n",
       "        toinsert[toinsert.length - 1].firstChild.textContent = bk_div.children[0].textContent\n",
       "      }\n",
       "      // store reference to server id on output_area\n",
       "      output_area._bokeh_server_id = output.metadata[EXEC_MIME_TYPE][\"server_id\"];\n",
       "    }\n",
       "  }\n",
       "\n",
       "  function register_renderer(events, OutputArea) {\n",
       "\n",
       "    function append_mime(data, metadata, element) {\n",
       "      // create a DOM node to render to\n",
       "      var toinsert = this.create_output_subarea(\n",
       "        metadata,\n",
       "        CLASS_NAME,\n",
       "        EXEC_MIME_TYPE\n",
       "      );\n",
       "      this.keyboard_manager.register_events(toinsert);\n",
       "      // Render to node\n",
       "      var props = {data: data, metadata: metadata[EXEC_MIME_TYPE]};\n",
       "      render(props, toinsert[toinsert.length - 1]);\n",
       "      element.append(toinsert);\n",
       "      return toinsert\n",
       "    }\n",
       "\n",
       "    /* Handle when an output is cleared or removed */\n",
       "    events.on('clear_output.CodeCell', handleClearOutput);\n",
       "    events.on('delete.Cell', handleClearOutput);\n",
       "\n",
       "    /* Handle when a new output is added */\n",
       "    events.on('output_added.OutputArea', handleAddOutput);\n",
       "\n",
       "    /**\n",
       "     * Register the mime type and append_mime function with output_area\n",
       "     */\n",
       "    OutputArea.prototype.register_mime_type(EXEC_MIME_TYPE, append_mime, {\n",
       "      /* Is output safe? */\n",
       "      safe: true,\n",
       "      /* Index of renderer in `output_area.display_order` */\n",
       "      index: 0\n",
       "    });\n",
       "  }\n",
       "\n",
       "  // register the mime type if in Jupyter Notebook environment and previously unregistered\n",
       "  if (root.Jupyter !== undefined) {\n",
       "    var events = require('base/js/events');\n",
       "    var OutputArea = require('notebook/js/outputarea').OutputArea;\n",
       "\n",
       "    if (OutputArea.prototype.mime_types().indexOf(EXEC_MIME_TYPE) == -1) {\n",
       "      register_renderer(events, OutputArea);\n",
       "    }\n",
       "  }\n",
       "\n",
       "  \n",
       "  if (typeof (root._bokeh_timeout) === \"undefined\" || force === true) {\n",
       "    root._bokeh_timeout = Date.now() + 5000;\n",
       "    root._bokeh_failed_load = false;\n",
       "  }\n",
       "\n",
       "  var NB_LOAD_WARNING = {'data': {'text/html':\n",
       "     \"<div style='background-color: #fdd'>\\n\"+\n",
       "     \"<p>\\n\"+\n",
       "     \"BokehJS does not appear to have successfully loaded. If loading BokehJS from CDN, this \\n\"+\n",
       "     \"may be due to a slow or bad network connection. Possible fixes:\\n\"+\n",
       "     \"</p>\\n\"+\n",
       "     \"<ul>\\n\"+\n",
       "     \"<li>re-rerun `output_notebook()` to attempt to load from CDN again, or</li>\\n\"+\n",
       "     \"<li>use INLINE resources instead, as so:</li>\\n\"+\n",
       "     \"</ul>\\n\"+\n",
       "     \"<code>\\n\"+\n",
       "     \"from bokeh.resources import INLINE\\n\"+\n",
       "     \"output_notebook(resources=INLINE)\\n\"+\n",
       "     \"</code>\\n\"+\n",
       "     \"</div>\"}};\n",
       "\n",
       "  function display_loaded() {\n",
       "    var el = document.getElementById(\"1002\");\n",
       "    if (el != null) {\n",
       "      el.textContent = \"BokehJS is loading...\";\n",
       "    }\n",
       "    if (root.Bokeh !== undefined) {\n",
       "      if (el != null) {\n",
       "        el.textContent = \"BokehJS \" + root.Bokeh.version + \" successfully loaded.\";\n",
       "      }\n",
       "    } else if (Date.now() < root._bokeh_timeout) {\n",
       "      setTimeout(display_loaded, 100)\n",
       "    }\n",
       "  }\n",
       "\n",
       "\n",
       "  function run_callbacks() {\n",
       "    try {\n",
       "      root._bokeh_onload_callbacks.forEach(function(callback) {\n",
       "        if (callback != null)\n",
       "          callback();\n",
       "      });\n",
       "    } finally {\n",
       "      delete root._bokeh_onload_callbacks\n",
       "    }\n",
       "    console.debug(\"Bokeh: all callbacks have finished\");\n",
       "  }\n",
       "\n",
       "  function load_libs(css_urls, js_urls, callback) {\n",
       "    if (css_urls == null) css_urls = [];\n",
       "    if (js_urls == null) js_urls = [];\n",
       "\n",
       "    root._bokeh_onload_callbacks.push(callback);\n",
       "    if (root._bokeh_is_loading > 0) {\n",
       "      console.debug(\"Bokeh: BokehJS is being loaded, scheduling callback at\", now());\n",
       "      return null;\n",
       "    }\n",
       "    if (js_urls == null || js_urls.length === 0) {\n",
       "      run_callbacks();\n",
       "      return null;\n",
       "    }\n",
       "    console.debug(\"Bokeh: BokehJS not loaded, scheduling load and callback at\", now());\n",
       "    root._bokeh_is_loading = css_urls.length + js_urls.length;\n",
       "\n",
       "    function on_load() {\n",
       "      root._bokeh_is_loading--;\n",
       "      if (root._bokeh_is_loading === 0) {\n",
       "        console.debug(\"Bokeh: all BokehJS libraries/stylesheets loaded\");\n",
       "        run_callbacks()\n",
       "      }\n",
       "    }\n",
       "\n",
       "    function on_error(url) {\n",
       "      console.error(\"failed to load \" + url);\n",
       "    }\n",
       "\n",
       "    for (let i = 0; i < css_urls.length; i++) {\n",
       "      const url = css_urls[i];\n",
       "      const element = document.createElement(\"link\");\n",
       "      element.onload = on_load;\n",
       "      element.onerror = on_error.bind(null, url);\n",
       "      element.rel = \"stylesheet\";\n",
       "      element.type = \"text/css\";\n",
       "      element.href = url;\n",
       "      console.debug(\"Bokeh: injecting link tag for BokehJS stylesheet: \", url);\n",
       "      document.body.appendChild(element);\n",
       "    }\n",
       "\n",
       "    const hashes = {\"https://cdn.bokeh.org/bokeh/release/bokeh-2.3.2.min.js\": \"XypntL49z55iwGVUW4qsEu83zKL3XEcz0MjuGOQ9SlaaQ68X/g+k1FcioZi7oQAc\", \"https://cdn.bokeh.org/bokeh/release/bokeh-tables-2.3.2.min.js\": \"bEsM86IHGDTLCS0Zod8a8WM6Y4+lafAL/eSiyQcuPzinmWNgNO2/olUF0Z2Dkn5i\", \"https://cdn.bokeh.org/bokeh/release/bokeh-widgets-2.3.2.min.js\": \"TX0gSQTdXTTeScqxj6PVQxTiRW8DOoGVwinyi1D3kxv7wuxQ02XkOxv0xwiypcAH\"};\n",
       "\n",
       "    for (let i = 0; i < js_urls.length; i++) {\n",
       "      const url = js_urls[i];\n",
       "      const element = document.createElement('script');\n",
       "      element.onload = on_load;\n",
       "      element.onerror = on_error.bind(null, url);\n",
       "      element.async = false;\n",
       "      element.src = url;\n",
       "      if (url in hashes) {\n",
       "        element.crossOrigin = \"anonymous\";\n",
       "        element.integrity = \"sha384-\" + hashes[url];\n",
       "      }\n",
       "      console.debug(\"Bokeh: injecting script tag for BokehJS library: \", url);\n",
       "      document.head.appendChild(element);\n",
       "    }\n",
       "  };\n",
       "\n",
       "  function inject_raw_css(css) {\n",
       "    const element = document.createElement(\"style\");\n",
       "    element.appendChild(document.createTextNode(css));\n",
       "    document.body.appendChild(element);\n",
       "  }\n",
       "\n",
       "  \n",
       "  var js_urls = [\"https://cdn.bokeh.org/bokeh/release/bokeh-2.3.2.min.js\", \"https://cdn.bokeh.org/bokeh/release/bokeh-widgets-2.3.2.min.js\", \"https://cdn.bokeh.org/bokeh/release/bokeh-tables-2.3.2.min.js\"];\n",
       "  var css_urls = [];\n",
       "  \n",
       "\n",
       "  var inline_js = [\n",
       "    function(Bokeh) {\n",
       "      Bokeh.set_log_level(\"info\");\n",
       "    },\n",
       "    function(Bokeh) {\n",
       "    \n",
       "    \n",
       "    }\n",
       "  ];\n",
       "\n",
       "  function run_inline_js() {\n",
       "    \n",
       "    if (root.Bokeh !== undefined || force === true) {\n",
       "      \n",
       "    for (var i = 0; i < inline_js.length; i++) {\n",
       "      inline_js[i].call(root, root.Bokeh);\n",
       "    }\n",
       "    if (force === true) {\n",
       "        display_loaded();\n",
       "      }} else if (Date.now() < root._bokeh_timeout) {\n",
       "      setTimeout(run_inline_js, 100);\n",
       "    } else if (!root._bokeh_failed_load) {\n",
       "      console.log(\"Bokeh: BokehJS failed to load within specified timeout.\");\n",
       "      root._bokeh_failed_load = true;\n",
       "    } else if (force !== true) {\n",
       "      var cell = $(document.getElementById(\"1002\")).parents('.cell').data().cell;\n",
       "      cell.output_area.append_execute_result(NB_LOAD_WARNING)\n",
       "    }\n",
       "\n",
       "  }\n",
       "\n",
       "  if (root._bokeh_is_loading === 0) {\n",
       "    console.debug(\"Bokeh: BokehJS loaded, going straight to plotting\");\n",
       "    run_inline_js();\n",
       "  } else {\n",
       "    load_libs(css_urls, js_urls, function() {\n",
       "      console.debug(\"Bokeh: BokehJS plotting callback run at\", now());\n",
       "      run_inline_js();\n",
       "    });\n",
       "  }\n",
       "}(window));"
      ],
      "application/vnd.bokehjs_load.v0+json": "\n(function(root) {\n  function now() {\n    return new Date();\n  }\n\n  var force = true;\n\n  if (typeof root._bokeh_onload_callbacks === \"undefined\" || force === true) {\n    root._bokeh_onload_callbacks = [];\n    root._bokeh_is_loading = undefined;\n  }\n\n  \n\n  \n  if (typeof (root._bokeh_timeout) === \"undefined\" || force === true) {\n    root._bokeh_timeout = Date.now() + 5000;\n    root._bokeh_failed_load = false;\n  }\n\n  var NB_LOAD_WARNING = {'data': {'text/html':\n     \"<div style='background-color: #fdd'>\\n\"+\n     \"<p>\\n\"+\n     \"BokehJS does not appear to have successfully loaded. If loading BokehJS from CDN, this \\n\"+\n     \"may be due to a slow or bad network connection. Possible fixes:\\n\"+\n     \"</p>\\n\"+\n     \"<ul>\\n\"+\n     \"<li>re-rerun `output_notebook()` to attempt to load from CDN again, or</li>\\n\"+\n     \"<li>use INLINE resources instead, as so:</li>\\n\"+\n     \"</ul>\\n\"+\n     \"<code>\\n\"+\n     \"from bokeh.resources import INLINE\\n\"+\n     \"output_notebook(resources=INLINE)\\n\"+\n     \"</code>\\n\"+\n     \"</div>\"}};\n\n  function display_loaded() {\n    var el = document.getElementById(\"1002\");\n    if (el != null) {\n      el.textContent = \"BokehJS is loading...\";\n    }\n    if (root.Bokeh !== undefined) {\n      if (el != null) {\n        el.textContent = \"BokehJS \" + root.Bokeh.version + \" successfully loaded.\";\n      }\n    } else if (Date.now() < root._bokeh_timeout) {\n      setTimeout(display_loaded, 100)\n    }\n  }\n\n\n  function run_callbacks() {\n    try {\n      root._bokeh_onload_callbacks.forEach(function(callback) {\n        if (callback != null)\n          callback();\n      });\n    } finally {\n      delete root._bokeh_onload_callbacks\n    }\n    console.debug(\"Bokeh: all callbacks have finished\");\n  }\n\n  function load_libs(css_urls, js_urls, callback) {\n    if (css_urls == null) css_urls = [];\n    if (js_urls == null) js_urls = [];\n\n    root._bokeh_onload_callbacks.push(callback);\n    if (root._bokeh_is_loading > 0) {\n      console.debug(\"Bokeh: BokehJS is being loaded, scheduling callback at\", now());\n      return null;\n    }\n    if (js_urls == null || js_urls.length === 0) {\n      run_callbacks();\n      return null;\n    }\n    console.debug(\"Bokeh: BokehJS not loaded, scheduling load and callback at\", now());\n    root._bokeh_is_loading = css_urls.length + js_urls.length;\n\n    function on_load() {\n      root._bokeh_is_loading--;\n      if (root._bokeh_is_loading === 0) {\n        console.debug(\"Bokeh: all BokehJS libraries/stylesheets loaded\");\n        run_callbacks()\n      }\n    }\n\n    function on_error(url) {\n      console.error(\"failed to load \" + url);\n    }\n\n    for (let i = 0; i < css_urls.length; i++) {\n      const url = css_urls[i];\n      const element = document.createElement(\"link\");\n      element.onload = on_load;\n      element.onerror = on_error.bind(null, url);\n      element.rel = \"stylesheet\";\n      element.type = \"text/css\";\n      element.href = url;\n      console.debug(\"Bokeh: injecting link tag for BokehJS stylesheet: \", url);\n      document.body.appendChild(element);\n    }\n\n    const hashes = {\"https://cdn.bokeh.org/bokeh/release/bokeh-2.3.2.min.js\": \"XypntL49z55iwGVUW4qsEu83zKL3XEcz0MjuGOQ9SlaaQ68X/g+k1FcioZi7oQAc\", \"https://cdn.bokeh.org/bokeh/release/bokeh-tables-2.3.2.min.js\": \"bEsM86IHGDTLCS0Zod8a8WM6Y4+lafAL/eSiyQcuPzinmWNgNO2/olUF0Z2Dkn5i\", \"https://cdn.bokeh.org/bokeh/release/bokeh-widgets-2.3.2.min.js\": \"TX0gSQTdXTTeScqxj6PVQxTiRW8DOoGVwinyi1D3kxv7wuxQ02XkOxv0xwiypcAH\"};\n\n    for (let i = 0; i < js_urls.length; i++) {\n      const url = js_urls[i];\n      const element = document.createElement('script');\n      element.onload = on_load;\n      element.onerror = on_error.bind(null, url);\n      element.async = false;\n      element.src = url;\n      if (url in hashes) {\n        element.crossOrigin = \"anonymous\";\n        element.integrity = \"sha384-\" + hashes[url];\n      }\n      console.debug(\"Bokeh: injecting script tag for BokehJS library: \", url);\n      document.head.appendChild(element);\n    }\n  };\n\n  function inject_raw_css(css) {\n    const element = document.createElement(\"style\");\n    element.appendChild(document.createTextNode(css));\n    document.body.appendChild(element);\n  }\n\n  \n  var js_urls = [\"https://cdn.bokeh.org/bokeh/release/bokeh-2.3.2.min.js\", \"https://cdn.bokeh.org/bokeh/release/bokeh-widgets-2.3.2.min.js\", \"https://cdn.bokeh.org/bokeh/release/bokeh-tables-2.3.2.min.js\"];\n  var css_urls = [];\n  \n\n  var inline_js = [\n    function(Bokeh) {\n      Bokeh.set_log_level(\"info\");\n    },\n    function(Bokeh) {\n    \n    \n    }\n  ];\n\n  function run_inline_js() {\n    \n    if (root.Bokeh !== undefined || force === true) {\n      \n    for (var i = 0; i < inline_js.length; i++) {\n      inline_js[i].call(root, root.Bokeh);\n    }\n    if (force === true) {\n        display_loaded();\n      }} else if (Date.now() < root._bokeh_timeout) {\n      setTimeout(run_inline_js, 100);\n    } else if (!root._bokeh_failed_load) {\n      console.log(\"Bokeh: BokehJS failed to load within specified timeout.\");\n      root._bokeh_failed_load = true;\n    } else if (force !== true) {\n      var cell = $(document.getElementById(\"1002\")).parents('.cell').data().cell;\n      cell.output_area.append_execute_result(NB_LOAD_WARNING)\n    }\n\n  }\n\n  if (root._bokeh_is_loading === 0) {\n    console.debug(\"Bokeh: BokehJS loaded, going straight to plotting\");\n    run_inline_js();\n  } else {\n    load_libs(css_urls, js_urls, function() {\n      console.debug(\"Bokeh: BokehJS plotting callback run at\", now());\n      run_inline_js();\n    });\n  }\n}(window));"
     },
     "metadata": {},
     "output_type": "display_data"
    }
   ],
   "source": [
    "from bokeh.models import ColumnDataSource, LabelSet\n",
    "from bokeh.plotting import figure, output_notebook, show\n",
    "from bokeh.models import HoverTool\n",
    "import numpy as np\n",
    "from datetime import datetime, timedelta\n",
    "import pandas as pd\n",
    "from bokeh.models import DatetimeTickFormatter, NumeralTickFormatter\n",
    "from bokeh.palettes import Category20\n",
    "import matplotlib as plt\n",
    "from math import pi\n",
    "from bokeh.transform import cumsum\n",
    "output_notebook()"
   ]
  },
  {
   "cell_type": "code",
   "execution_count": 2,
   "id": "af1c9476",
   "metadata": {
    "ExecuteTime": {
     "end_time": "2022-04-26T02:24:54.095059Z",
     "start_time": "2022-04-26T02:24:54.083090Z"
    }
   },
   "outputs": [],
   "source": [
    "Data = pd.date_range(start ='2019-11-22', end ='2020-12-22', freq = 'm')"
   ]
  },
  {
   "cell_type": "code",
   "execution_count": 3,
   "id": "a3b5a65a",
   "metadata": {
    "ExecuteTime": {
     "end_time": "2022-04-26T02:24:54.111016Z",
     "start_time": "2022-04-26T02:24:54.098050Z"
    }
   },
   "outputs": [],
   "source": [
    "rotativo_dia = [np.random.uniform(400, 600) for i in range(len(Data))]\n",
    "valor_inad = [np.random.uniform(50, 100) for i in range(len(Data))]\n",
    "valor_pre_inad = [np.random.uniform(300, 120) for i in range(len(Data))]\n",
    "carteira_debito = [np.random.uniform(700, 900) for i in range(len(Data))]"
   ]
  },
  {
   "cell_type": "code",
   "execution_count": 4,
   "id": "409c1d09",
   "metadata": {
    "ExecuteTime": {
     "end_time": "2022-04-26T02:24:54.126972Z",
     "start_time": "2022-04-26T02:24:54.114010Z"
    }
   },
   "outputs": [],
   "source": [
    "data = dict(Data = Data, \n",
    "           carteira_debito = carteira_debito,\n",
    "           rotativo_dia = rotativo_dia, \n",
    "           valor_pre_inad = valor_pre_inad,\n",
    "           valor_inad = valor_inad)"
   ]
  },
  {
   "cell_type": "code",
   "execution_count": 5,
   "id": "59f0e3a0",
   "metadata": {
    "ExecuteTime": {
     "end_time": "2022-04-26T02:24:54.141932Z",
     "start_time": "2022-04-26T02:24:54.129965Z"
    }
   },
   "outputs": [],
   "source": [
    "data['acumulado_1'] = [(i + j ) for i, j in zip(data['carteira_debito'],\n",
    "                                                data['rotativo_dia'])]\n",
    "\n",
    "data['acumulado_2'] = [(i + j + k ) for i, j, k in zip(data['carteira_debito'],\n",
    "                                                        data['rotativo_dia'],\n",
    "                                                        data['valor_pre_inad'])]\n",
    "\n",
    "data['acumulado_3'] = [(i + j + k + l) for i, j, k, l in zip(data['carteira_debito'],\n",
    "                                                             data['rotativo_dia'],\n",
    "                                                             data['valor_pre_inad'],\n",
    "                                                             data['valor_inad'])]"
   ]
  },
  {
   "cell_type": "code",
   "execution_count": 6,
   "id": "9d16155a",
   "metadata": {
    "ExecuteTime": {
     "end_time": "2022-04-26T02:24:54.157891Z",
     "start_time": "2022-04-26T02:24:54.144924Z"
    }
   },
   "outputs": [],
   "source": [
    "def transform(i, j):\n",
    "    a = i/j\n",
    "    return f'{(1 - a)*100:.2f}%'"
   ]
  },
  {
   "cell_type": "code",
   "execution_count": 7,
   "id": "c3f59212",
   "metadata": {
    "ExecuteTime": {
     "end_time": "2022-04-26T02:24:54.188806Z",
     "start_time": "2022-04-26T02:24:54.162877Z"
    }
   },
   "outputs": [],
   "source": [
    "data['carteira_debito_var'] = [0]\n",
    "data['acumulado_1_var'] = [0]\n",
    "data['acumulado_2_var'] = [0]\n",
    "data['acumulado_3_var'] = [0]\n",
    "data['carteira_debito_var'] = [0]\n",
    "data['valor_inad_var'] = [0]\n",
    "data['valor_pre_inad_var'] = [0]\n",
    "data['rotativo_dia_var'] = [0]\n",
    "\n",
    "[(data['carteira_debito_var'].append(transform(data['carteira_debito'][i], data['carteira_debito'][i+1])),\n",
    " data['acumulado_1_var'].append(transform(data['acumulado_1'][i], data['acumulado_1'][i+1])),\n",
    " data['acumulado_2_var'].append(transform(data['acumulado_2'][i], data['acumulado_2'][i+1])),\n",
    " data['acumulado_3_var'].append(transform(data['acumulado_3'][i], data['acumulado_3'][i+1])), \n",
    " data['rotativo_dia_var'].append(transform(data['rotativo_dia'][i], data['rotativo_dia'][i+1])), \n",
    " data['valor_inad_var'].append(transform(data['valor_inad'][i], data['valor_inad'][i+1])), \n",
    " data['valor_pre_inad_var'].append(transform(data['valor_pre_inad'][i], data['valor_pre_inad'][i+1])))\n",
    " for i in range(len(Data)-1)];"
   ]
  },
  {
   "cell_type": "code",
   "execution_count": 8,
   "id": "a672c5b3",
   "metadata": {
    "ExecuteTime": {
     "end_time": "2022-04-26T02:24:54.204763Z",
     "start_time": "2022-04-26T02:24:54.192796Z"
    }
   },
   "outputs": [],
   "source": [
    "data['acumulado_1_str'] = [f'R$ {(i + j):.2f}'.replace('.', ',') for i,j in zip(data['carteira_debito'],\n",
    "                                                                                data['rotativo_dia'])]\n",
    "\n",
    "data['acumulado_2_str'] = [f'R$ {(i + j + k):.2f}'.replace('.', ',') for i,j,k in zip(data['carteira_debito'],\n",
    "                                                                               data['rotativo_dia'], \n",
    "                                                                              data['valor_pre_inad'])]\n",
    "\n",
    "data['acumulado_3_str'] = [f'R$ {(i + j + k + l):.2f}'.replace('.', ',') for i,j,k,l in zip(data['carteira_debito'],\n",
    "                                                                                            data['rotativo_dia'], \n",
    "                                                                                            data['valor_pre_inad'], \n",
    "                                                                                            data['valor_inad'])]"
   ]
  },
  {
   "cell_type": "markdown",
   "id": "381180f9",
   "metadata": {},
   "source": [
    "# Gráfico Áreas empilhadas"
   ]
  },
  {
   "cell_type": "code",
   "execution_count": 25,
   "id": "71c28ea6",
   "metadata": {
    "ExecuteTime": {
     "end_time": "2022-04-26T02:30:13.251608Z",
     "start_time": "2022-04-26T02:30:13.235649Z"
    }
   },
   "outputs": [],
   "source": [
    "source = ColumnDataSource(data=data)\n",
    "\n",
    "p = figure(width=1200, height=500, x_axis_type=\"datetime\")"
   ]
  },
  {
   "cell_type": "code",
   "execution_count": 26,
   "id": "ab62472a",
   "metadata": {
    "ExecuteTime": {
     "end_time": "2022-04-26T02:30:14.196695Z",
     "start_time": "2022-04-26T02:30:14.172760Z"
    }
   },
   "outputs": [],
   "source": [
    "p.varea_stack(['carteira_debito', 'rotativo_dia', 'valor_pre_inad', 'valor_inad'],\n",
    "              x='Data', color=(\"navy\", \"lightblue\", 'lemonchiffon', 'red'), source=source)\n",
    "\n",
    "p.yaxis[0].formatter = NumeralTickFormatter(format=\"R$0,00\")\n",
    "p.xaxis[0].formatter = DatetimeTickFormatter(months=\"%b %Y\")\n"
   ]
  },
  {
   "cell_type": "code",
   "execution_count": 27,
   "id": "8feaa744",
   "metadata": {
    "ExecuteTime": {
     "end_time": "2022-04-26T02:30:14.652502Z",
     "start_time": "2022-04-26T02:30:14.429587Z"
    }
   },
   "outputs": [
    {
     "data": {
      "text/html": [
       "\n",
       "\n",
       "\n",
       "\n",
       "\n",
       "\n",
       "  <div class=\"bk-root\" id=\"0ae4406f-29d5-450a-9386-bc6c428c036b\" data-root-id=\"8163\"></div>\n"
      ]
     },
     "metadata": {},
     "output_type": "display_data"
    },
    {
     "data": {
      "application/javascript": [
       "(function(root) {\n",
       "  function embed_document(root) {\n",
       "    \n",
       "  var docs_json = {\"67d741f0-0b90-4383-a3b8-1dd51cde636e\":{\"defs\":[],\"roots\":{\"references\":[{\"attributes\":{\"below\":[{\"id\":\"8172\"}],\"center\":[{\"id\":\"8175\"},{\"id\":\"8179\"},{\"id\":\"8274\"},{\"id\":\"8276\"},{\"id\":\"8278\"},{\"id\":\"8280\"}],\"height\":500,\"left\":[{\"id\":\"8176\"}],\"renderers\":[{\"id\":\"8205\"},{\"id\":\"8210\"},{\"id\":\"8215\"},{\"id\":\"8220\"},{\"id\":\"8229\"},{\"id\":\"8234\"},{\"id\":\"8241\"},{\"id\":\"8246\"},{\"id\":\"8253\"},{\"id\":\"8258\"},{\"id\":\"8265\"},{\"id\":\"8270\"}],\"title\":{\"id\":\"8431\"},\"toolbar\":{\"id\":\"8187\"},\"width\":1200,\"x_range\":{\"id\":\"8164\"},\"x_scale\":{\"id\":\"8168\"},\"y_range\":{\"id\":\"8166\"},\"y_scale\":{\"id\":\"8170\"}},\"id\":\"8163\",\"subtype\":\"Figure\",\"type\":\"Plot\"},{\"attributes\":{\"data\":{\"Data\":{\"__ndarray__\":\"AACAtpnrdkIAAMAIlPV2QgAAAFuO/3ZCAADA4eMId0IAAAA03hJ3QgAAgCCGHHdCAADAcoAmd0IAAEBfKDB3QgAAgLEiOndCAADAAx1Ed0IAAEDwxE13QgAAgEK/V3dCAAAAL2dhd0I=\",\"dtype\":\"float64\",\"order\":\"little\",\"shape\":[13]},\"acumulado_1\":[1311.8310558990672,1194.9635684097598,1199.689117331133,1279.226212764932,1364.9676674444704,1249.8559893432507,1351.952160249987,1288.1899236895679,1324.9306691937618,1282.6454491956526,1232.5057399806965,1445.2766721424982,1335.849771616362],\"acumulado_1_str\":[\"R$ 1311,83\",\"R$ 1194,96\",\"R$ 1199,69\",\"R$ 1279,23\",\"R$ 1364,97\",\"R$ 1249,86\",\"R$ 1351,95\",\"R$ 1288,19\",\"R$ 1324,93\",\"R$ 1282,65\",\"R$ 1232,51\",\"R$ 1445,28\",\"R$ 1335,85\"],\"acumulado_1_var\":[0,\"-9.78%\",\"0.39%\",\"6.22%\",\"6.28%\",\"-9.21%\",\"7.55%\",\"-4.95%\",\"2.77%\",\"-3.30%\",\"-4.07%\",\"14.72%\",\"-8.19%\"],\"acumulado_2\":[1543.7644782302752,1338.99562463542,1405.1639472746003,1421.6247259813208,1520.5847262100467,1506.2024985910102,1496.1772664959917,1473.370299738023,1570.9642919469627,1419.2173930688314,1377.0530515963328,1636.139270037614,1485.1040669141569],\"acumulado_2_str\":[\"R$ 1543,76\",\"R$ 1339,00\",\"R$ 1405,16\",\"R$ 1421,62\",\"R$ 1520,58\",\"R$ 1506,20\",\"R$ 1496,18\",\"R$ 1473,37\",\"R$ 1570,96\",\"R$ 1419,22\",\"R$ 1377,05\",\"R$ 1636,14\",\"R$ 1485,10\"],\"acumulado_2_var\":[0,\"-15.29%\",\"4.71%\",\"1.16%\",\"6.51%\",\"-0.95%\",\"-0.67%\",\"-1.55%\",\"6.21%\",\"-10.69%\",\"-3.06%\",\"15.84%\",\"-10.17%\"],\"acumulado_3\":[1636.2153889758151,1395.6283987227223,1464.1808465611773,1511.2530917530173,1615.050368350331,1597.4443929511797,1585.7126727349437,1566.3098517446285,1644.7573516582142,1469.527785579847,1438.7572229926363,1711.8169196618524,1556.9609551114052],\"acumulado_3_str\":[\"R$ 1636,22\",\"R$ 1395,63\",\"R$ 1464,18\",\"R$ 1511,25\",\"R$ 1615,05\",\"R$ 1597,44\",\"R$ 1585,71\",\"R$ 1566,31\",\"R$ 1644,76\",\"R$ 1469,53\",\"R$ 1438,76\",\"R$ 1711,82\",\"R$ 1556,96\"],\"acumulado_3_var\":[0,\"-17.24%\",\"4.68%\",\"3.11%\",\"6.43%\",\"-1.10%\",\"-0.74%\",\"-1.24%\",\"4.77%\",\"-11.92%\",\"-2.14%\",\"15.95%\",\"-9.95%\"],\"carteira_debito\":[782.438369939098,791.6632468903388,763.6374441037938,796.2475594777047,845.1758855207611,747.6396460661845,839.3666921168408,740.428057922639,889.6185100722755,825.8847899780784,785.2964886803442,873.3278109829778,852.9160569013453],\"carteira_debito_var\":[0,\"1.17%\",\"-3.67%\",\"4.10%\",\"5.79%\",\"-13.05%\",\"10.93%\",\"-13.36%\",\"16.77%\",\"-7.72%\",\"-5.17%\",\"10.08%\",\"-2.39%\"],\"rotativo_dia\":[529.3926859599692,403.30032151942106,436.0516732273392,482.9786532872272,519.7917819237093,502.2163432770662,512.5854681331462,547.761865766929,435.3121591214863,456.76065921757424,447.20925130035226,571.9488611595206,482.93371471501655],\"rotativo_dia_var\":[0,\"-31.27%\",\"7.51%\",\"9.72%\",\"7.08%\",\"-3.50%\",\"2.02%\",\"6.42%\",\"-25.83%\",\"4.70%\",\"-2.14%\",\"21.81%\",\"-18.43%\"],\"valor_inad\":[92.45091074553977,56.63277408730226,59.01689928657692,89.62836577169645,94.46564214028413,91.24189436016954,89.53540623895198,92.93955200660548,73.79305971125154,50.3103925110155,61.70417139630355,75.67764962423819,71.85688819724837],\"valor_inad_var\":[0,\"-63.25%\",\"4.04%\",\"34.15%\",\"5.12%\",\"-3.53%\",\"-1.91%\",\"3.66%\",\"-25.95%\",\"-46.68%\",\"18.47%\",\"18.46%\",\"-5.32%\"],\"valor_pre_inad\":[231.93342233120796,144.03205622566009,205.47482994346723,142.39851321638892,155.61705876557636,256.3465092477596,144.22510624600477,185.18037604845514,246.03362275320094,136.57194387317867,144.54731161563623,190.86259789511578,149.2542952977949],\"valor_pre_inad_var\":[0,\"-61.03%\",\"29.90%\",\"-44.30%\",\"8.49%\",\"39.29%\",\"-77.74%\",\"22.12%\",\"24.73%\",\"-80.15%\",\"5.52%\",\"24.27%\",\"-27.88%\"]},\"selected\":{\"id\":\"8449\"},\"selection_policy\":{\"id\":\"8448\"}},\"id\":\"8162\",\"type\":\"ColumnDataSource\"},{\"attributes\":{\"line_width\":2,\"x\":{\"field\":\"x\"},\"y\":{\"field\":\"y\"}},\"id\":\"8244\",\"type\":\"Line\"},{\"attributes\":{\"data\":{\"x\":{\"__ndarray__\":\"AACAtpnrdkIAAMAIlPV2QgAAAFuO/3ZCAADA4eMId0IAAAA03hJ3QgAAgCCGHHdCAADAcoAmd0IAAEBfKDB3QgAAgLEiOndCAADAAx1Ed0IAAEDwxE13QgAAgEK/V3dCAAAAL2dhd0I=\",\"dtype\":\"float64\",\"order\":\"little\",\"shape\":[13]},\"y\":[1311.8310558990672,1194.9635684097598,1199.689117331133,1279.226212764932,1364.9676674444704,1249.8559893432507,1351.952160249987,1288.1899236895679,1324.9306691937618,1282.6454491956526,1232.5057399806965,1445.2766721424982,1335.849771616362]},\"selected\":{\"id\":\"8453\"},\"selection_policy\":{\"id\":\"8452\"}},\"id\":\"8243\",\"type\":\"ColumnDataSource\"},{\"attributes\":{\"fill_color\":{\"value\":\"red\"},\"size\":{\"value\":8},\"x\":{\"field\":\"Data\"},\"y\":{\"field\":\"acumulado_3\"}},\"id\":\"8263\",\"type\":\"Circle\"},{\"attributes\":{\"source\":{\"id\":\"8243\"}},\"id\":\"8247\",\"type\":\"CDSView\"},{\"attributes\":{\"fill_alpha\":{\"value\":0.1},\"fill_color\":{\"value\":\"lemonchiffon\"},\"line_alpha\":{\"value\":0.1},\"size\":{\"value\":8},\"x\":{\"field\":\"Data\"},\"y\":{\"field\":\"acumulado_2\"}},\"id\":\"8252\",\"type\":\"Circle\"},{\"attributes\":{},\"id\":\"8452\",\"type\":\"UnionRenderers\"},{\"attributes\":{\"line_width\":2,\"x\":{\"field\":\"x\"},\"y\":{\"field\":\"y\"}},\"id\":\"8256\",\"type\":\"Line\"},{\"attributes\":{},\"id\":\"8453\",\"type\":\"Selection\"},{\"attributes\":{\"line_alpha\":0.1,\"line_width\":2,\"x\":{\"field\":\"x\"},\"y\":{\"field\":\"y\"}},\"id\":\"8245\",\"type\":\"Line\"},{\"attributes\":{\"data_source\":{\"id\":\"8255\"},\"glyph\":{\"id\":\"8256\"},\"hover_glyph\":null,\"muted_glyph\":null,\"nonselection_glyph\":{\"id\":\"8257\"},\"view\":{\"id\":\"8259\"}},\"id\":\"8258\",\"type\":\"GlyphRenderer\"},{\"attributes\":{\"fields\":[\"carteira_debito\",\"rotativo_dia\"]},\"id\":\"8198\",\"type\":\"Stack\"},{\"attributes\":{\"data\":{\"x\":{\"__ndarray__\":\"AACAtpnrdkIAAMAIlPV2QgAAAFuO/3ZCAADA4eMId0IAAAA03hJ3QgAAgCCGHHdCAADAcoAmd0IAAEBfKDB3QgAAgLEiOndCAADAAx1Ed0IAAEDwxE13QgAAgEK/V3dCAAAAL2dhd0I=\",\"dtype\":\"float64\",\"order\":\"little\",\"shape\":[13]},\"y\":[1543.7644782302752,1338.99562463542,1405.1639472746003,1421.6247259813208,1520.5847262100467,1506.2024985910102,1496.1772664959917,1473.370299738023,1570.9642919469627,1419.2173930688314,1377.0530515963328,1636.139270037614,1485.1040669141569]},\"selected\":{\"id\":\"8455\"},\"selection_policy\":{\"id\":\"8454\"}},\"id\":\"8255\",\"type\":\"ColumnDataSource\"},{\"attributes\":{\"fields\":[\"carteira_debito\",\"rotativo_dia\",\"valor_pre_inad\"]},\"id\":\"8200\",\"type\":\"Stack\"},{\"attributes\":{},\"id\":\"8448\",\"type\":\"UnionRenderers\"},{\"attributes\":{\"source\":{\"id\":\"8162\"}},\"id\":\"8254\",\"type\":\"CDSView\"},{\"attributes\":{\"source\":{\"id\":\"8255\"}},\"id\":\"8259\",\"type\":\"CDSView\"},{\"attributes\":{\"fields\":[\"carteira_debito\",\"rotativo_dia\",\"valor_pre_inad\"]},\"id\":\"8199\",\"type\":\"Stack\"},{\"attributes\":{\"data_source\":{\"id\":\"8162\"},\"glyph\":{\"id\":\"8251\"},\"hover_glyph\":null,\"muted_glyph\":null,\"nonselection_glyph\":{\"id\":\"8252\"},\"view\":{\"id\":\"8254\"}},\"id\":\"8253\",\"type\":\"GlyphRenderer\"},{\"attributes\":{\"callback\":null,\"renderers\":[{\"id\":\"8253\"}],\"tooltips\":[[\"valor_pre_inad\",\"@valor_pre_inad\"],[\"valor_pre_inad_var\",\"@valor_pre_inad_var\"],[\"acumulado_2_str\",\"@acumulado_2_str\"],[\"acumulado_2_var\",\"@acumulado_2_var\"]]},\"id\":\"8260\",\"type\":\"HoverTool\"},{\"attributes\":{\"level\":\"glyph\",\"source\":{\"id\":\"8162\"},\"text\":{\"field\":\"carteira_debito\"},\"x\":{\"field\":\"Data\"},\"x_offset\":{\"value\":5},\"y\":{\"field\":\"carteira_debito\"},\"y_offset\":{\"value\":5}},\"id\":\"8274\",\"type\":\"LabelSet\"},{\"attributes\":{\"fill_color\":\"lemonchiffon\",\"x\":{\"field\":\"Data\"},\"y1\":{\"expr\":{\"id\":\"8198\"}},\"y2\":{\"expr\":{\"id\":\"8199\"}}},\"id\":\"8213\",\"type\":\"VArea\"},{\"attributes\":{\"line_width\":2,\"x\":{\"field\":\"x\"},\"y\":{\"field\":\"y\"}},\"id\":\"8268\",\"type\":\"Line\"},{\"attributes\":{\"level\":\"glyph\",\"source\":{\"id\":\"8162\"},\"text\":{\"field\":\"acumulado_2_str\"},\"x\":{\"field\":\"Data\"},\"x_offset\":{\"value\":5},\"y\":{\"field\":\"acumulado_2\"},\"y_offset\":{\"value\":5}},\"id\":\"8278\",\"type\":\"LabelSet\"},{\"attributes\":{\"fields\":[]},\"id\":\"8194\",\"type\":\"Stack\"},{\"attributes\":{\"line_alpha\":0.1,\"line_width\":2,\"x\":{\"field\":\"x\"},\"y\":{\"field\":\"y\"}},\"id\":\"8257\",\"type\":\"Line\"},{\"attributes\":{\"data\":{\"x\":{\"__ndarray__\":\"AACAtpnrdkIAAMAIlPV2QgAAAFuO/3ZCAADA4eMId0IAAAA03hJ3QgAAgCCGHHdCAADAcoAmd0IAAEBfKDB3QgAAgLEiOndCAADAAx1Ed0IAAEDwxE13QgAAgEK/V3dCAAAAL2dhd0I=\",\"dtype\":\"float64\",\"order\":\"little\",\"shape\":[13]},\"y\":[1636.2153889758151,1395.6283987227223,1464.1808465611773,1511.2530917530173,1615.050368350331,1597.4443929511797,1585.7126727349437,1566.3098517446285,1644.7573516582142,1469.527785579847,1438.7572229926363,1711.8169196618524,1556.9609551114052]},\"selected\":{\"id\":\"8457\"},\"selection_policy\":{\"id\":\"8456\"}},\"id\":\"8267\",\"type\":\"ColumnDataSource\"},{\"attributes\":{\"fields\":[\"carteira_debito\"]},\"id\":\"8196\",\"type\":\"Stack\"},{\"attributes\":{\"data_source\":{\"id\":\"8243\"},\"glyph\":{\"id\":\"8244\"},\"hover_glyph\":null,\"muted_glyph\":null,\"nonselection_glyph\":{\"id\":\"8245\"},\"view\":{\"id\":\"8247\"}},\"id\":\"8246\",\"type\":\"GlyphRenderer\"},{\"attributes\":{\"fill_alpha\":{\"value\":0.1},\"fill_color\":{\"value\":\"red\"},\"line_alpha\":{\"value\":0.1},\"size\":{\"value\":8},\"x\":{\"field\":\"Data\"},\"y\":{\"field\":\"acumulado_3\"}},\"id\":\"8264\",\"type\":\"Circle\"},{\"attributes\":{\"data_source\":{\"id\":\"8267\"},\"glyph\":{\"id\":\"8268\"},\"hover_glyph\":null,\"muted_glyph\":null,\"nonselection_glyph\":{\"id\":\"8269\"},\"view\":{\"id\":\"8271\"}},\"id\":\"8270\",\"type\":\"GlyphRenderer\"},{\"attributes\":{\"source\":{\"id\":\"8162\"}},\"id\":\"8266\",\"type\":\"CDSView\"},{\"attributes\":{\"source\":{\"id\":\"8267\"}},\"id\":\"8271\",\"type\":\"CDSView\"},{\"attributes\":{\"data_source\":{\"id\":\"8162\"},\"glyph\":{\"id\":\"8263\"},\"hover_glyph\":null,\"muted_glyph\":null,\"nonselection_glyph\":{\"id\":\"8264\"},\"view\":{\"id\":\"8266\"}},\"id\":\"8265\",\"type\":\"GlyphRenderer\"},{\"attributes\":{\"fields\":[\"carteira_debito\",\"rotativo_dia\"]},\"id\":\"8197\",\"type\":\"Stack\"},{\"attributes\":{\"callback\":null,\"renderers\":[{\"id\":\"8265\"}],\"tooltips\":[[\"valor_inad\",\"@valor_inad\"],[\"valor_inad_var\",\"@valor_inad_var\"],[\"acumulado_3_str\",\"@acumulado_3_str\"],[\"acumulado_3_var\",\"@acumulado_3_var\"]]},\"id\":\"8272\",\"type\":\"HoverTool\"},{\"attributes\":{},\"id\":\"8454\",\"type\":\"UnionRenderers\"},{\"attributes\":{\"fill_alpha\":0.1,\"fill_color\":\"navy\",\"x\":{\"field\":\"Data\"},\"y1\":{\"expr\":{\"id\":\"8194\"}},\"y2\":{\"expr\":{\"id\":\"8195\"}}},\"id\":\"8204\",\"type\":\"VArea\"},{\"attributes\":{},\"id\":\"8455\",\"type\":\"Selection\"},{\"attributes\":{\"fields\":[\"carteira_debito\"]},\"id\":\"8195\",\"type\":\"Stack\"},{\"attributes\":{\"line_alpha\":0.1,\"line_width\":2,\"x\":{\"field\":\"x\"},\"y\":{\"field\":\"y\"}},\"id\":\"8269\",\"type\":\"Line\"},{\"attributes\":{\"level\":\"glyph\",\"source\":{\"id\":\"8162\"},\"text\":{\"field\":\"acumulado_2_str\"},\"x\":{\"field\":\"Data\"},\"x_offset\":{\"value\":5},\"y\":{\"field\":\"acumulado_1\"},\"y_offset\":{\"value\":5}},\"id\":\"8276\",\"type\":\"LabelSet\"},{\"attributes\":{\"fill_alpha\":0.1,\"fill_color\":\"lemonchiffon\",\"x\":{\"field\":\"Data\"},\"y1\":{\"expr\":{\"id\":\"8198\"}},\"y2\":{\"expr\":{\"id\":\"8199\"}}},\"id\":\"8214\",\"type\":\"VArea\"},{\"attributes\":{\"months\":[0,6]},\"id\":\"8446\",\"type\":\"MonthsTicker\"},{\"attributes\":{},\"id\":\"8166\",\"type\":\"DataRange1d\"},{\"attributes\":{},\"id\":\"8447\",\"type\":\"YearsTicker\"},{\"attributes\":{\"months\":[0,4,8]},\"id\":\"8445\",\"type\":\"MonthsTicker\"},{\"attributes\":{\"level\":\"glyph\",\"source\":{\"id\":\"8162\"},\"text\":{\"field\":\"acumulado_3_str\"},\"x\":{\"field\":\"Data\"},\"x_offset\":{\"value\":5},\"y\":{\"field\":\"acumulado_3\"},\"y_offset\":{\"value\":5}},\"id\":\"8280\",\"type\":\"LabelSet\"},{\"attributes\":{},\"id\":\"8435\",\"type\":\"AllLabels\"},{\"attributes\":{\"source\":{\"id\":\"8162\"}},\"id\":\"8206\",\"type\":\"CDSView\"},{\"attributes\":{},\"id\":\"8431\",\"type\":\"Title\"},{\"attributes\":{\"source\":{\"id\":\"8162\"}},\"id\":\"8230\",\"type\":\"CDSView\"},{\"attributes\":{},\"id\":\"8456\",\"type\":\"UnionRenderers\"},{\"attributes\":{\"data_source\":{\"id\":\"8162\"},\"glyph\":{\"id\":\"8213\"},\"hover_glyph\":null,\"muted_glyph\":null,\"name\":\"valor_pre_inad\",\"nonselection_glyph\":{\"id\":\"8214\"},\"view\":{\"id\":\"8216\"}},\"id\":\"8215\",\"type\":\"GlyphRenderer\"},{\"attributes\":{},\"id\":\"8457\",\"type\":\"Selection\"},{\"attributes\":{\"mantissas\":[1,2,5],\"max_interval\":500.0,\"num_minor_ticks\":0},\"id\":\"8436\",\"type\":\"AdaptiveTicker\"},{\"attributes\":{\"base\":60,\"mantissas\":[1,2,5,10,15,20,30],\"max_interval\":1800000.0,\"min_interval\":1000.0,\"num_minor_ticks\":0},\"id\":\"8437\",\"type\":\"AdaptiveTicker\"},{\"attributes\":{\"days\":[1,2,3,4,5,6,7,8,9,10,11,12,13,14,15,16,17,18,19,20,21,22,23,24,25,26,27,28,29,30,31]},\"id\":\"8439\",\"type\":\"DaysTicker\"},{\"attributes\":{\"base\":24,\"mantissas\":[1,2,4,6,8,12],\"max_interval\":43200000.0,\"min_interval\":3600000.0,\"num_minor_ticks\":0},\"id\":\"8438\",\"type\":\"AdaptiveTicker\"},{\"attributes\":{\"fields\":[\"carteira_debito\",\"rotativo_dia\",\"valor_pre_inad\",\"valor_inad\"]},\"id\":\"8201\",\"type\":\"Stack\"},{\"attributes\":{\"fill_color\":{\"value\":\"lightblue\"},\"size\":{\"value\":8},\"x\":{\"field\":\"Data\"},\"y\":{\"field\":\"acumulado_1\"}},\"id\":\"8239\",\"type\":\"Circle\"},{\"attributes\":{\"months\":[0,1,2,3,4,5,6,7,8,9,10,11]},\"id\":\"8443\",\"type\":\"MonthsTicker\"},{\"attributes\":{\"data_source\":{\"id\":\"8231\"},\"glyph\":{\"id\":\"8232\"},\"hover_glyph\":null,\"muted_glyph\":null,\"nonselection_glyph\":{\"id\":\"8233\"},\"view\":{\"id\":\"8235\"}},\"id\":\"8234\",\"type\":\"GlyphRenderer\"},{\"attributes\":{},\"id\":\"8433\",\"type\":\"AllLabels\"},{\"attributes\":{\"months\":[0,2,4,6,8,10]},\"id\":\"8444\",\"type\":\"MonthsTicker\"},{\"attributes\":{\"fill_color\":{\"value\":\"navy\"},\"size\":{\"value\":8},\"x\":{\"field\":\"Data\"},\"y\":{\"field\":\"carteira_debito\"}},\"id\":\"8227\",\"type\":\"Circle\"},{\"attributes\":{\"days\":[1,4,7,10,13,16,19,22,25,28]},\"id\":\"8440\",\"type\":\"DaysTicker\"},{\"attributes\":{\"days\":[1,15]},\"id\":\"8442\",\"type\":\"DaysTicker\"},{\"attributes\":{\"data_source\":{\"id\":\"8162\"},\"glyph\":{\"id\":\"8203\"},\"hover_glyph\":null,\"muted_glyph\":null,\"name\":\"carteira_debito\",\"nonselection_glyph\":{\"id\":\"8204\"},\"view\":{\"id\":\"8206\"}},\"id\":\"8205\",\"type\":\"GlyphRenderer\"},{\"attributes\":{\"fill_alpha\":{\"value\":0.1},\"fill_color\":{\"value\":\"navy\"},\"line_alpha\":{\"value\":0.1},\"size\":{\"value\":8},\"x\":{\"field\":\"Data\"},\"y\":{\"field\":\"carteira_debito\"}},\"id\":\"8228\",\"type\":\"Circle\"},{\"attributes\":{\"bottom_units\":\"screen\",\"fill_alpha\":0.5,\"fill_color\":\"lightgrey\",\"left_units\":\"screen\",\"level\":\"overlay\",\"line_alpha\":1.0,\"line_color\":\"black\",\"line_dash\":[4,4],\"line_width\":2,\"right_units\":\"screen\",\"syncable\":false,\"top_units\":\"screen\"},\"id\":\"8186\",\"type\":\"BoxAnnotation\"},{\"attributes\":{\"data_source\":{\"id\":\"8162\"},\"glyph\":{\"id\":\"8239\"},\"hover_glyph\":null,\"muted_glyph\":null,\"nonselection_glyph\":{\"id\":\"8240\"},\"view\":{\"id\":\"8242\"}},\"id\":\"8241\",\"type\":\"GlyphRenderer\"},{\"attributes\":{\"days\":[1,8,15,22]},\"id\":\"8441\",\"type\":\"DaysTicker\"},{\"attributes\":{\"line_width\":2,\"x\":{\"field\":\"x\"},\"y\":{\"field\":\"y\"}},\"id\":\"8232\",\"type\":\"Line\"},{\"attributes\":{\"data\":{\"x\":{\"__ndarray__\":\"AACAtpnrdkIAAMAIlPV2QgAAAFuO/3ZCAADA4eMId0IAAAA03hJ3QgAAgCCGHHdCAADAcoAmd0IAAEBfKDB3QgAAgLEiOndCAADAAx1Ed0IAAEDwxE13QgAAgEK/V3dCAAAAL2dhd0I=\",\"dtype\":\"float64\",\"order\":\"little\",\"shape\":[13]},\"y\":[782.438369939098,791.6632468903388,763.6374441037938,796.2475594777047,845.1758855207611,747.6396460661845,839.3666921168408,740.428057922639,889.6185100722755,825.8847899780784,785.2964886803442,873.3278109829778,852.9160569013453]},\"selected\":{\"id\":\"8451\"},\"selection_policy\":{\"id\":\"8450\"}},\"id\":\"8231\",\"type\":\"ColumnDataSource\"},{\"attributes\":{\"callback\":null,\"renderers\":[{\"id\":\"8241\"}],\"tooltips\":[[\"rotativo_dia\",\"@rotativo_dia\"],[\"rotativo_dia_var\",\"@rotativo_dia_var\"],[\"acumulado_1_str\",\"@acumulado_1_str\"],[\"acumulado_1_var\",\"@acumulado_1_var\"]]},\"id\":\"8248\",\"type\":\"HoverTool\"},{\"attributes\":{},\"id\":\"8449\",\"type\":\"Selection\"},{\"attributes\":{\"source\":{\"id\":\"8231\"}},\"id\":\"8235\",\"type\":\"CDSView\"},{\"attributes\":{\"data_source\":{\"id\":\"8162\"},\"glyph\":{\"id\":\"8227\"},\"hover_glyph\":null,\"muted_glyph\":null,\"nonselection_glyph\":{\"id\":\"8228\"},\"view\":{\"id\":\"8230\"}},\"id\":\"8229\",\"type\":\"GlyphRenderer\"},{\"attributes\":{\"callback\":null,\"renderers\":[{\"id\":\"8229\"}],\"tooltips\":[[\"carteira_debito\",\"@carteira_debito\"],[\"carteira_debito_var\",\"@carteira_debito_var\"]]},\"id\":\"8236\",\"type\":\"HoverTool\"},{\"attributes\":{\"fill_alpha\":0.1,\"fill_color\":\"red\",\"x\":{\"field\":\"Data\"},\"y1\":{\"expr\":{\"id\":\"8200\"}},\"y2\":{\"expr\":{\"id\":\"8201\"}}},\"id\":\"8219\",\"type\":\"VArea\"},{\"attributes\":{\"fill_color\":{\"value\":\"lemonchiffon\"},\"size\":{\"value\":8},\"x\":{\"field\":\"Data\"},\"y\":{\"field\":\"acumulado_2\"}},\"id\":\"8251\",\"type\":\"Circle\"},{\"attributes\":{},\"id\":\"8164\",\"type\":\"DataRange1d\"},{\"attributes\":{\"fill_alpha\":{\"value\":0.1},\"fill_color\":{\"value\":\"lightblue\"},\"line_alpha\":{\"value\":0.1},\"size\":{\"value\":8},\"x\":{\"field\":\"Data\"},\"y\":{\"field\":\"acumulado_1\"}},\"id\":\"8240\",\"type\":\"Circle\"},{\"attributes\":{\"line_alpha\":0.1,\"line_width\":2,\"x\":{\"field\":\"x\"},\"y\":{\"field\":\"y\"}},\"id\":\"8233\",\"type\":\"Line\"},{\"attributes\":{\"source\":{\"id\":\"8162\"}},\"id\":\"8242\",\"type\":\"CDSView\"},{\"attributes\":{\"fill_color\":\"navy\",\"x\":{\"field\":\"Data\"},\"y1\":{\"expr\":{\"id\":\"8194\"}},\"y2\":{\"expr\":{\"id\":\"8195\"}}},\"id\":\"8203\",\"type\":\"VArea\"},{\"attributes\":{\"fill_color\":\"red\",\"x\":{\"field\":\"Data\"},\"y1\":{\"expr\":{\"id\":\"8200\"}},\"y2\":{\"expr\":{\"id\":\"8201\"}}},\"id\":\"8218\",\"type\":\"VArea\"},{\"attributes\":{\"data_source\":{\"id\":\"8162\"},\"glyph\":{\"id\":\"8208\"},\"hover_glyph\":null,\"muted_glyph\":null,\"name\":\"rotativo_dia\",\"nonselection_glyph\":{\"id\":\"8209\"},\"view\":{\"id\":\"8211\"}},\"id\":\"8210\",\"type\":\"GlyphRenderer\"},{\"attributes\":{},\"id\":\"8181\",\"type\":\"WheelZoomTool\"},{\"attributes\":{\"source\":{\"id\":\"8162\"}},\"id\":\"8211\",\"type\":\"CDSView\"},{\"attributes\":{\"source\":{\"id\":\"8162\"}},\"id\":\"8216\",\"type\":\"CDSView\"},{\"attributes\":{\"fill_alpha\":0.1,\"fill_color\":\"lightblue\",\"x\":{\"field\":\"Data\"},\"y1\":{\"expr\":{\"id\":\"8196\"}},\"y2\":{\"expr\":{\"id\":\"8197\"}}},\"id\":\"8209\",\"type\":\"VArea\"},{\"attributes\":{},\"id\":\"8170\",\"type\":\"LinearScale\"},{\"attributes\":{},\"id\":\"8168\",\"type\":\"LinearScale\"},{\"attributes\":{\"formatter\":{\"id\":\"8224\"},\"major_label_policy\":{\"id\":\"8433\"},\"ticker\":{\"id\":\"8173\"}},\"id\":\"8172\",\"type\":\"DatetimeAxis\"},{\"attributes\":{\"source\":{\"id\":\"8162\"}},\"id\":\"8221\",\"type\":\"CDSView\"},{\"attributes\":{},\"id\":\"8180\",\"type\":\"PanTool\"},{\"attributes\":{},\"id\":\"8177\",\"type\":\"BasicTicker\"},{\"attributes\":{\"num_minor_ticks\":5,\"tickers\":[{\"id\":\"8436\"},{\"id\":\"8437\"},{\"id\":\"8438\"},{\"id\":\"8439\"},{\"id\":\"8440\"},{\"id\":\"8441\"},{\"id\":\"8442\"},{\"id\":\"8443\"},{\"id\":\"8444\"},{\"id\":\"8445\"},{\"id\":\"8446\"},{\"id\":\"8447\"}]},\"id\":\"8173\",\"type\":\"DatetimeTicker\"},{\"attributes\":{\"active_multi\":null,\"tools\":[{\"id\":\"8180\"},{\"id\":\"8181\"},{\"id\":\"8182\"},{\"id\":\"8183\"},{\"id\":\"8184\"},{\"id\":\"8185\"},{\"id\":\"8236\"},{\"id\":\"8248\"},{\"id\":\"8260\"},{\"id\":\"8272\"}]},\"id\":\"8187\",\"type\":\"Toolbar\"},{\"attributes\":{},\"id\":\"8185\",\"type\":\"HelpTool\"},{\"attributes\":{\"fill_color\":\"lightblue\",\"x\":{\"field\":\"Data\"},\"y1\":{\"expr\":{\"id\":\"8196\"}},\"y2\":{\"expr\":{\"id\":\"8197\"}}},\"id\":\"8208\",\"type\":\"VArea\"},{\"attributes\":{},\"id\":\"8183\",\"type\":\"SaveTool\"},{\"attributes\":{},\"id\":\"8450\",\"type\":\"UnionRenderers\"},{\"attributes\":{},\"id\":\"8451\",\"type\":\"Selection\"},{\"attributes\":{},\"id\":\"8184\",\"type\":\"ResetTool\"},{\"attributes\":{\"format\":\"R$0,00\"},\"id\":\"8222\",\"type\":\"NumeralTickFormatter\"},{\"attributes\":{\"overlay\":{\"id\":\"8186\"}},\"id\":\"8182\",\"type\":\"BoxZoomTool\"},{\"attributes\":{\"formatter\":{\"id\":\"8222\"},\"major_label_policy\":{\"id\":\"8435\"},\"ticker\":{\"id\":\"8177\"}},\"id\":\"8176\",\"type\":\"LinearAxis\"},{\"attributes\":{\"axis\":{\"id\":\"8172\"},\"ticker\":null},\"id\":\"8175\",\"type\":\"Grid\"},{\"attributes\":{\"data_source\":{\"id\":\"8162\"},\"glyph\":{\"id\":\"8218\"},\"hover_glyph\":null,\"muted_glyph\":null,\"name\":\"valor_inad\",\"nonselection_glyph\":{\"id\":\"8219\"},\"view\":{\"id\":\"8221\"}},\"id\":\"8220\",\"type\":\"GlyphRenderer\"},{\"attributes\":{\"axis\":{\"id\":\"8176\"},\"dimension\":1,\"ticker\":null},\"id\":\"8179\",\"type\":\"Grid\"},{\"attributes\":{\"months\":[\"%b %Y\"]},\"id\":\"8224\",\"type\":\"DatetimeTickFormatter\"}],\"root_ids\":[\"8163\"]},\"title\":\"Bokeh Application\",\"version\":\"2.3.2\"}};\n",
       "  var render_items = [{\"docid\":\"67d741f0-0b90-4383-a3b8-1dd51cde636e\",\"root_ids\":[\"8163\"],\"roots\":{\"8163\":\"0ae4406f-29d5-450a-9386-bc6c428c036b\"}}];\n",
       "  root.Bokeh.embed.embed_items_notebook(docs_json, render_items);\n",
       "\n",
       "  }\n",
       "  if (root.Bokeh !== undefined) {\n",
       "    embed_document(root);\n",
       "  } else {\n",
       "    var attempts = 0;\n",
       "    var timer = setInterval(function(root) {\n",
       "      if (root.Bokeh !== undefined) {\n",
       "        clearInterval(timer);\n",
       "        embed_document(root);\n",
       "      } else {\n",
       "        attempts++;\n",
       "        if (attempts > 100) {\n",
       "          clearInterval(timer);\n",
       "          console.log(\"Bokeh: ERROR: Unable to run BokehJS code because BokehJS library is missing\");\n",
       "        }\n",
       "      }\n",
       "    }, 10, root)\n",
       "  }\n",
       "})(window);"
      ],
      "application/vnd.bokehjs_exec.v0+json": ""
     },
     "metadata": {
      "application/vnd.bokehjs_exec.v0+json": {
       "id": "8163"
      }
     },
     "output_type": "display_data"
    }
   ],
   "source": [
    "r1 = p.circle('Data', 'carteira_debito', source=source, size=8, color='navy', line_color = 'black')\n",
    "p.line(Data, carteira_debito ,color=\"black\", line_width=2)\n",
    "p.add_tools(HoverTool(renderers=[r1], tooltips=[('carteira_debito', '@carteira_debito'),\n",
    "                                                ('carteira_debito_var', '@carteira_debito_var')]))\n",
    "\n",
    "r2 = p.circle('Data', 'acumulado_1', source=source, size=8, color='lightblue', line_color = 'black')\n",
    "p.line(Data, data['acumulado_1'] ,color=\"black\", line_width=2)\n",
    "p.add_tools(HoverTool(renderers=[r2], tooltips=[('rotativo_dia', '@rotativo_dia'), \n",
    "                                               ('rotativo_dia_var', '@rotativo_dia_var'),\n",
    "                                                ('acumulado_1_str', '@acumulado_1_str'), \n",
    "                                               ('acumulado_1_var', '@acumulado_1_var')]))\n",
    "\n",
    "r3 = p.circle('Data', 'acumulado_2', source=source, size=8, color='lemonchiffon', line_color = 'black')\n",
    "p.line(Data, data['acumulado_2'] ,color=\"black\", line_width=2)\n",
    "p.add_tools(HoverTool(renderers=[r3], tooltips=[('valor_pre_inad', '@valor_pre_inad'), \n",
    "                                               ('valor_pre_inad_var', '@valor_pre_inad_var'),\n",
    "                                                ('acumulado_2_str', '@acumulado_2_str'), \n",
    "                                               ('acumulado_2_var', '@acumulado_2_var')]))\n",
    "\n",
    "r4 = p.circle('Data', 'acumulado_3', source=source, size=8, color='red', line_color = 'black')\n",
    "p.line(Data, data['acumulado_3'] ,color=\"black\", line_width=2)\n",
    "p.add_tools(HoverTool(renderers=[r4], tooltips=[('valor_inad', '@valor_inad'), \n",
    "                                               ('valor_inad_var', '@valor_inad_var'),\n",
    "                                                ('acumulado_3_str', '@acumulado_3_str'), \n",
    "                                               ('acumulado_3_var', '@acumulado_3_var')]))\n",
    "\n",
    "labels1 = LabelSet(x='Data', y='carteira_debito', text='carteira_debito', level='glyph', text_color='navy',\n",
    "                   border_line_color='black', x_offset=5, y_offset=5, source=source)\n",
    "p.add_layout(labels1)\n",
    "\n",
    "labels2 = LabelSet(x='Data', y='acumulado_1', text='acumulado_2_str', level='glyph', text_color=,\n",
    "                   border_line_color='black',x_offset=5, y_offset=5, source=source)\n",
    "p.add_layout(labels2)\n",
    "\n",
    "labels3= LabelSet(x='Data', y='acumulado_2', text='acumulado_2_str', level='glyph',text_color=,\n",
    "                  border_line_color='black',x_offset=5, y_offset=5, source=source)\n",
    "p.add_layout(labels3)\n",
    "\n",
    "labels4 = LabelSet(x='Data', y='acumulado_3', text='acumulado_3_str', level='glyph',text_color=,\n",
    "                   border_line_color='black',x_offset=5, y_offset=5, source=source)\n",
    "p.add_layout(labels4)\n",
    "\n",
    "\n",
    "show(p)"
   ]
  },
  {
   "cell_type": "markdown",
   "id": "d8d9477f",
   "metadata": {},
   "source": [
    "# Gráfico linha"
   ]
  },
  {
   "cell_type": "code",
   "execution_count": null,
   "id": "f91189eb",
   "metadata": {
    "ExecuteTime": {
     "end_time": "2022-04-26T02:24:54.773677Z",
     "start_time": "2022-04-26T02:24:53.135Z"
    }
   },
   "outputs": [],
   "source": [
    "def line(string):\n",
    "    source = ColumnDataSource(data=data)\n",
    "\n",
    "    p = figure(width=800, height=200, x_axis_type=\"datetime\")\n",
    "\n",
    "    p.xaxis[0].formatter = DatetimeTickFormatter(months=\"%b %Y\")\n",
    "    p.yaxis[0].formatter = NumeralTickFormatter(format=\"R$0,00\")\n",
    "\n",
    "    r = p.circle('Data', string, source=source, size=8, color='navy', line_color = 'black')\n",
    "    p.line('Data', string ,color=\"black\", line_width=2, source=source)\n",
    "    p.add_tools(HoverTool(renderers=[r], tooltips=[('string', f'@{string}'),\n",
    "                                                   (f'{string}_var', f'@{string}_var')]))\n",
    "    show(p)"
   ]
  },
  {
   "cell_type": "code",
   "execution_count": null,
   "id": "5abb1f23",
   "metadata": {
    "ExecuteTime": {
     "end_time": "2022-04-26T02:24:54.775671Z",
     "start_time": "2022-04-26T02:24:53.137Z"
    }
   },
   "outputs": [],
   "source": [
    "line('carteira_debito')"
   ]
  },
  {
   "cell_type": "code",
   "execution_count": null,
   "id": "891a71d6",
   "metadata": {
    "ExecuteTime": {
     "end_time": "2022-04-26T02:24:54.777666Z",
     "start_time": "2022-04-26T02:24:53.139Z"
    }
   },
   "outputs": [],
   "source": [
    "line('rotativo_dia')"
   ]
  },
  {
   "cell_type": "code",
   "execution_count": null,
   "id": "cd2aa9b7",
   "metadata": {
    "ExecuteTime": {
     "end_time": "2022-04-26T02:24:54.778662Z",
     "start_time": "2022-04-26T02:24:53.141Z"
    }
   },
   "outputs": [],
   "source": [
    "line('valor_pre_inad')"
   ]
  },
  {
   "cell_type": "code",
   "execution_count": null,
   "id": "949c6099",
   "metadata": {
    "ExecuteTime": {
     "end_time": "2022-04-26T02:24:54.780656Z",
     "start_time": "2022-04-26T02:24:53.144Z"
    }
   },
   "outputs": [],
   "source": [
    "line('valor_inad')"
   ]
  },
  {
   "cell_type": "markdown",
   "id": "2b50d2c4",
   "metadata": {},
   "source": [
    "# Gráfico pizza"
   ]
  },
  {
   "cell_type": "code",
   "execution_count": null,
   "id": "ba4dc56b",
   "metadata": {
    "ExecuteTime": {
     "end_time": "2022-04-26T02:24:54.783650Z",
     "start_time": "2022-04-26T02:24:53.163Z"
    }
   },
   "outputs": [],
   "source": [
    "lista_test = [carteira_debito[-1], rotativo_dia[-1], valor_pre_inad[-1], valor_inad[-1]]\n",
    "\n",
    "def transform(i,j):\n",
    "    a = (i/j)*100\n",
    "    string = f'{a:.2f}%'\n",
    "    return string\n",
    "\n",
    "lista_perc =  [transform(i,sum(lista_test)) for i in lista_test]    \n",
    "\n",
    "lista_angle = [i/sum(lista_test)*2*pi for i in lista_test]\n",
    "\n",
    "color = ['blue', 'green', 'black','red']\n",
    "\n",
    "lista_str = ['Débito', 'Parcelado em dia', 'Pré inadimplência', 'Inadimplência']\n",
    "\n",
    "data = dict(valor=lista_test,\n",
    "           angle=lista_angle,\n",
    "           color=color,\n",
    "           Percentual = lista_perc,\n",
    "           Tipo = lista_str)\n",
    "\n",
    "source = ColumnDataSource(data=data)\n",
    "\n",
    "p = figure(plot_height=350)\n",
    "\n",
    "r = p.annular_wedge(x=0, y=1,  inner_radius=0.15, outer_radius=0.25, direction=\"anticlock\",\n",
    "                start_angle=cumsum('angle', include_zero=True), end_angle=cumsum('angle'), source=source,\n",
    "                    fill_color='color', line_color=\"white\")\n",
    "p.add_tools(HoverTool(renderers=[r], tooltips=[('Tipo', '@Tipo'),\n",
    "                                               ('valor', '@valor'),\n",
    "                                               ('Percentual', '@Percentual')]))\n",
    "p.background_fill_alpha = 0\n",
    "\n",
    "show(p)"
   ]
  },
  {
   "cell_type": "code",
   "execution_count": null,
   "id": "1e96b2a3",
   "metadata": {},
   "outputs": [],
   "source": []
  },
  {
   "cell_type": "code",
   "execution_count": null,
   "id": "c0d774d0",
   "metadata": {},
   "outputs": [],
   "source": []
  }
 ],
 "metadata": {
  "kernelspec": {
   "display_name": "Python 3",
   "language": "python",
   "name": "python3"
  },
  "language_info": {
   "codemirror_mode": {
    "name": "ipython",
    "version": 3
   },
   "file_extension": ".py",
   "mimetype": "text/x-python",
   "name": "python",
   "nbconvert_exporter": "python",
   "pygments_lexer": "ipython3",
   "version": "3.8.8"
  },
  "latex_envs": {
   "LaTeX_envs_menu_present": true,
   "autoclose": false,
   "autocomplete": true,
   "bibliofile": "biblio.bib",
   "cite_by": "apalike",
   "current_citInitial": 1,
   "eqLabelWithNumbers": true,
   "eqNumInitial": 1,
   "hotkeys": {
    "equation": "Ctrl-E",
    "itemize": "Ctrl-I"
   },
   "labels_anchors": false,
   "latex_user_defs": false,
   "report_style_numbering": false,
   "user_envs_cfg": false
  },
  "toc": {
   "base_numbering": 1,
   "nav_menu": {},
   "number_sections": true,
   "sideBar": true,
   "skip_h1_title": false,
   "title_cell": "Table of Contents",
   "title_sidebar": "Contents",
   "toc_cell": false,
   "toc_position": {},
   "toc_section_display": true,
   "toc_window_display": false
  },
  "varInspector": {
   "cols": {
    "lenName": 16,
    "lenType": 16,
    "lenVar": 40
   },
   "kernels_config": {
    "python": {
     "delete_cmd_postfix": "",
     "delete_cmd_prefix": "del ",
     "library": "var_list.py",
     "varRefreshCmd": "print(var_dic_list())"
    },
    "r": {
     "delete_cmd_postfix": ") ",
     "delete_cmd_prefix": "rm(",
     "library": "var_list.r",
     "varRefreshCmd": "cat(var_dic_list()) "
    }
   },
   "types_to_exclude": [
    "module",
    "function",
    "builtin_function_or_method",
    "instance",
    "_Feature"
   ],
   "window_display": false
  }
 },
 "nbformat": 4,
 "nbformat_minor": 5
}
